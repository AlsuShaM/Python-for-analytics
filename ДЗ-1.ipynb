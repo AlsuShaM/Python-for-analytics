{
 "cells": [
  {
   "cell_type": "markdown",
   "id": "e0ccd104",
   "metadata": {},
   "source": [
    "Оформляйте ноутбук, используя эти советы:\n",
    "1. Номер задачи - заголовок 2\n",
    "2. Номер подзадачи - заголовок 3\n",
    "3. Предоставленные наборы данных оформляйте, как код"
   ]
  },
  {
   "cell_type": "markdown",
   "id": "9f7e3dd5",
   "metadata": {},
   "source": [
    "## Задача 1:\n",
    "    \n",
    "На складе лежат разные фрукты в разном количестве.<br> Нужно написать функцию, которая на вход принимает любое количество названий фруктов и их количество, а возвращает общее количество фруктов на складе"
   ]
  },
  {
   "cell_type": "code",
   "execution_count": 1,
   "id": "30f28c34",
   "metadata": {},
   "outputs": [],
   "source": [
    "def print_fruits(**kwargs):\n",
    "    total_1 = 0\n",
    "    for key, value in kwargs.items():\n",
    "        total_1 += value\n",
    "    print(f'Общее количество фруктов на складе: {total_1}')"
   ]
  },
  {
   "cell_type": "code",
   "execution_count": 2,
   "id": "58f00d74",
   "metadata": {},
   "outputs": [
    {
     "name": "stdout",
     "output_type": "stream",
     "text": [
      "Общее количество фруктов на складе: 36\n"
     ]
    }
   ],
   "source": [
    "print_fruits(\n",
    "    яблоко = 5,\n",
    "    апельсин = 3,\n",
    "    банан = 10,\n",
    "    киви = 2,\n",
    "    ананас =1,\n",
    "    мандарин = 15,\n",
    ")"
   ]
  },
  {
   "cell_type": "markdown",
   "id": "2dc079b7",
   "metadata": {},
   "source": [
    "## Задача 2:\n",
    "\n",
    "Дан список с затратами на рекламу.<br> Но в данных есть ошибки, некоторые затраты имеют отрицательную величину. Удалите такие значения из списка и посчитайте суммарные затраты\n",
    "\n",
    "- Используйте list comprehensions"
   ]
  },
  {
   "cell_type": "code",
   "execution_count": 3,
   "id": "b104ed7d",
   "metadata": {},
   "outputs": [],
   "source": [
    "list_1 = [100, 125, -90, 345, 655, -1, 0, 200]"
   ]
  },
  {
   "cell_type": "code",
   "execution_count": 4,
   "id": "8d21fcda",
   "metadata": {
    "scrolled": true
   },
   "outputs": [
    {
     "data": {
      "text/plain": [
       "[100, 125, 345, 655, 200]"
      ]
     },
     "execution_count": 4,
     "metadata": {},
     "output_type": "execute_result"
    }
   ],
   "source": [
    "new_list = [list_1[i] for i in range(len(list_1)) if list_1[i] > 0]\n",
    "new_list"
   ]
  },
  {
   "cell_type": "code",
   "execution_count": 5,
   "id": "b39efbe4",
   "metadata": {},
   "outputs": [
    {
     "data": {
      "text/plain": [
       "1425"
      ]
     },
     "execution_count": 5,
     "metadata": {},
     "output_type": "execute_result"
    }
   ],
   "source": [
    "max_sum = 0\n",
    "for i in range(len(new_list)):\n",
    "    max_sum += new_list[i]\n",
    "max_sum        "
   ]
  },
  {
   "cell_type": "markdown",
   "id": "e1849892",
   "metadata": {},
   "source": [
    "## Задача 3:\n",
    "\n",
    "Даны два списка:\n",
    "- Дата покупки"
   ]
  },
  {
   "cell_type": "code",
   "execution_count": 6,
   "id": "c107f9a8",
   "metadata": {},
   "outputs": [],
   "source": [
    "list_1 = ['2021-09-14', '2021-12-15', '2021-09-08', '2021-12-05', '2021-10-09', '2021-09-30', '2021-12-22', '2021-11-29', '2021-12-24', '2021-11-26', '2021-10-27', '2021-12-18', '2021-11-09', '2021-11-23', '2021-09-27', '2021-10-02', '2021-12-27', '2021-09-20', '2021-12-13', '2021-11-01', '2021-11-09', '2021-12-06', '2021-12-08', '2021-10-09', '2021-10-31', '2021-09-30', '2021-11-09', '2021-12-13', '2021-10-26', '2021-12-09']"
   ]
  },
  {
   "cell_type": "markdown",
   "id": "f8d9dcd7",
   "metadata": {},
   "source": [
    "- Суммы покупок по датам"
   ]
  },
  {
   "cell_type": "code",
   "execution_count": 7,
   "id": "8dff8ede",
   "metadata": {},
   "outputs": [],
   "source": [
    "list_2 = [1270, 8413, 9028, 3703, 5739, 4095, 295, 4944, 5723, 3701, 4471, 651, 7037, 4274, 6275, 4988, 6930, 2971, 6592, 2004, 2822, 519, 3406, 2732, 5015, 2008, 316, 6333, 5700, 2887]"
   ]
  },
  {
   "cell_type": "markdown",
   "id": "ff548dfc",
   "metadata": {},
   "source": [
    "### 3.1 Найдите, какая выручка у компании в ноябре\n",
    "Используйте list comprehensions"
   ]
  },
  {
   "cell_type": "code",
   "execution_count": 8,
   "id": "9b7ba006",
   "metadata": {
    "scrolled": false
   },
   "outputs": [
    {
     "data": {
      "text/plain": [
       "{'2021-09-14': 1270,\n",
       " '2021-12-15': 8413,\n",
       " '2021-09-08': 9028,\n",
       " '2021-12-05': 3703,\n",
       " '2021-10-09': 2732,\n",
       " '2021-09-30': 2008,\n",
       " '2021-12-22': 295,\n",
       " '2021-11-29': 4944,\n",
       " '2021-12-24': 5723,\n",
       " '2021-11-26': 3701,\n",
       " '2021-10-27': 4471,\n",
       " '2021-12-18': 651,\n",
       " '2021-11-09': 316,\n",
       " '2021-11-23': 4274,\n",
       " '2021-09-27': 6275,\n",
       " '2021-10-02': 4988,\n",
       " '2021-12-27': 6930,\n",
       " '2021-09-20': 2971,\n",
       " '2021-12-13': 6333,\n",
       " '2021-11-01': 2004,\n",
       " '2021-12-06': 519,\n",
       " '2021-12-08': 3406,\n",
       " '2021-10-31': 5015,\n",
       " '2021-10-26': 5700,\n",
       " '2021-12-09': 2887}"
      ]
     },
     "execution_count": 8,
     "metadata": {},
     "output_type": "execute_result"
    }
   ],
   "source": [
    "dict_1 = dict(zip(list_1, list_2))\n",
    "dict_1"
   ]
  },
  {
   "cell_type": "code",
   "execution_count": 9,
   "id": "91789f30",
   "metadata": {},
   "outputs": [
    {
     "name": "stdout",
     "output_type": "stream",
     "text": [
      "Выручка у компании в ноябре = 15239\n"
     ]
    }
   ],
   "source": [
    "total_2 = 0\n",
    "for key, value in dict_1.items():\n",
    "    if key[5:7] == '11':\n",
    "        total_2 += value\n",
    "print(f'Выручка у компании в ноябре = {total_2}')"
   ]
  },
  {
   "cell_type": "markdown",
   "id": "cab03b69",
   "metadata": {},
   "source": [
    "*Не поняла где и как здесь можно использовать list comprehensions :(*"
   ]
  },
  {
   "cell_type": "markdown",
   "id": "eacd00d3",
   "metadata": {},
   "source": [
    "### 3.2 Найдите выручку компании в зависимости от месяца\n",
    "Для этого напишите функцию, которая на вход принимает список с датами и список с выручкой, а на выходе словарь, где ключи - это месяцы, а значения - это выручка.\n",
    "\n",
    "Используйте аннотирование типов."
   ]
  },
  {
   "cell_type": "code",
   "execution_count": 10,
   "id": "4f8a8fb0",
   "metadata": {},
   "outputs": [],
   "source": [
    "list_1 = ['2021-09-14', '2021-12-15', '2021-09-08', '2021-12-05', '2021-10-09', '2021-09-30', '2021-12-22', '2021-11-29', '2021-12-24', '2021-11-26', '2021-10-27', '2021-12-18', '2021-11-09', '2021-11-23', '2021-09-27', '2021-10-02', '2021-12-27', '2021-09-20', '2021-12-13', '2021-11-01', '2021-11-09', '2021-12-06', '2021-12-08', '2021-10-09', '2021-10-31', '2021-09-30', '2021-11-09', '2021-12-13', '2021-10-26', '2021-12-09']"
   ]
  },
  {
   "cell_type": "code",
   "execution_count": 11,
   "id": "9d2a8202",
   "metadata": {},
   "outputs": [],
   "source": [
    "list_2 = [1270, 8413, 9028, 3703, 5739, 4095, 295, 4944, 5723, 3701, 4471, 651, 7037, 4274, 6275, 4988, 6930, 2971, 6592, 2004, 2822, 519, 3406, 2732, 5015, 2008, 316, 6333, 5700, 2887]"
   ]
  },
  {
   "cell_type": "code",
   "execution_count": 12,
   "id": "c1606d98",
   "metadata": {},
   "outputs": [],
   "source": [
    "def new_dict(list_1: list, list_2: list) -> dict:\n",
    "    dict_2 = {list_1[i]: list_2[i] for i in range(len(list_1))}\n",
    "    return dict_2"
   ]
  },
  {
   "cell_type": "code",
   "execution_count": 13,
   "id": "489e1562",
   "metadata": {
    "scrolled": true
   },
   "outputs": [
    {
     "data": {
      "text/plain": [
       "{'2021-09-14': 1270,\n",
       " '2021-12-15': 8413,\n",
       " '2021-09-08': 9028,\n",
       " '2021-12-05': 3703,\n",
       " '2021-10-09': 2732,\n",
       " '2021-09-30': 2008,\n",
       " '2021-12-22': 295,\n",
       " '2021-11-29': 4944,\n",
       " '2021-12-24': 5723,\n",
       " '2021-11-26': 3701,\n",
       " '2021-10-27': 4471,\n",
       " '2021-12-18': 651,\n",
       " '2021-11-09': 316,\n",
       " '2021-11-23': 4274,\n",
       " '2021-09-27': 6275,\n",
       " '2021-10-02': 4988,\n",
       " '2021-12-27': 6930,\n",
       " '2021-09-20': 2971,\n",
       " '2021-12-13': 6333,\n",
       " '2021-11-01': 2004,\n",
       " '2021-12-06': 519,\n",
       " '2021-12-08': 3406,\n",
       " '2021-10-31': 5015,\n",
       " '2021-10-26': 5700,\n",
       " '2021-12-09': 2887}"
      ]
     },
     "execution_count": 13,
     "metadata": {},
     "output_type": "execute_result"
    }
   ],
   "source": [
    "dict_3 = new_dict(list_1, list_2)\n",
    "dict_3"
   ]
  },
  {
   "cell_type": "code",
   "execution_count": 14,
   "id": "8dc7453e",
   "metadata": {},
   "outputs": [
    {
     "data": {
      "text/plain": [
       "[21552, 22906, 15239, 38860]"
      ]
     },
     "execution_count": 14,
     "metadata": {},
     "output_type": "execute_result"
    }
   ],
   "source": [
    "total_09 = 0\n",
    "total_10 = 0\n",
    "total_11 = 0\n",
    "total_12 = 0\n",
    "list_4 = []\n",
    "for key, value in dict_3.items():\n",
    "    if key[5:7] == '09':\n",
    "        total_09 += value\n",
    "    elif key[5:7] == '10':\n",
    "        total_10 += value\n",
    "    elif key[5:7] == '11':\n",
    "        total_11 += value\n",
    "    elif key[5:7] == '12':\n",
    "        total_12 += value\n",
    "list_4.append(total_09)\n",
    "list_4.append(total_10)\n",
    "list_4.append(total_11)\n",
    "list_4.append(total_12)\n",
    "list_4"
   ]
  },
  {
   "cell_type": "code",
   "execution_count": 15,
   "id": "fd440266",
   "metadata": {
    "scrolled": true
   },
   "outputs": [
    {
     "name": "stdout",
     "output_type": "stream",
     "text": [
      "9: 21552\n",
      "10: 22906\n",
      "11: 15239\n",
      "12: 38860\n"
     ]
    }
   ],
   "source": [
    "dict_4 = {(i+9): list_4[i] for i in range(0, len(list_4), 1)}\n",
    "for key, value in dict_4.items():\n",
    "    print(\"{0}: {1}\".format(key,value))"
   ]
  },
  {
   "cell_type": "markdown",
   "id": "d4b5864e",
   "metadata": {},
   "source": [
    "*Извините, проще и короче код не смогла написать*"
   ]
  },
  {
   "cell_type": "markdown",
   "id": "7f34b22a",
   "metadata": {},
   "source": [
    "## *Задача 4 \n",
    "Найдите картинку в интернете и прикрепите её в ячейку с текстом\n"
   ]
  },
  {
   "cell_type": "markdown",
   "id": "e489f054",
   "metadata": {},
   "source": [
    "<img src='https://pic.rutubelist.ru/video/6b/62/6b622a1f7eeb7f0a00bc8196c7dc01a7.png'>"
   ]
  },
  {
   "cell_type": "markdown",
   "id": "0c39f058",
   "metadata": {},
   "source": [
    "## *Задача 5 \n",
    "Создайте следующую таблицу в ячейке с текстом (см. презентацию)"
   ]
  },
  {
   "cell_type": "markdown",
   "id": "96a592f4",
   "metadata": {},
   "source": [
    "<table>\n",
    "    <tr>\n",
    "        <th></th>\n",
    "        <th> До события </th>\n",
    "        <th> Время события </th>\n",
    "    </tr>\n",
    "    <tr>\n",
    "        <td><b> 1 Контрольная точка </b></td>\n",
    "        <td> 250 </td>\n",
    "        <td> 500 </td>\n",
    "    </tr>\n",
    "    <tr>\n",
    "        <td><b> 2 Контрольная точка </b></td>\n",
    "        <td> 350 </td>\n",
    "        <td> 700 </td>\n",
    "    </tr> \n",
    "    <tr>\n",
    "        <td><b> 3 Контрольная точка </b></td>\n",
    "        <td> 400 </td>\n",
    "        <td> 800 </td>\n",
    "    </tr>\n",
    "    <tr>\n",
    "    <td><td></td><td></td>\n",
    "    </tr>    \n",
    "    <tr>\n",
    "        <td><b> Итого за победу </b></td>\n",
    "        <td> 1000 </td>\n",
    "        <td> 2000 </td>\n",
    "    </tr>    \n",
    "</table>"
   ]
  }
 ],
 "metadata": {
  "kernelspec": {
   "display_name": "Python 3 (ipykernel)",
   "language": "python",
   "name": "python3"
  },
  "language_info": {
   "codemirror_mode": {
    "name": "ipython",
    "version": 3
   },
   "file_extension": ".py",
   "mimetype": "text/x-python",
   "name": "python",
   "nbconvert_exporter": "python",
   "pygments_lexer": "ipython3",
   "version": "3.9.13"
  }
 },
 "nbformat": 4,
 "nbformat_minor": 5
}
